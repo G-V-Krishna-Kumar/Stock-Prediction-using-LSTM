{
  "cells": [
    {
      "cell_type": "code",
      "execution_count": 2,
      "metadata": {
        "colab": {
          "base_uri": "https://localhost:8080/"
        },
        "id": "m7Xsz7QZpF2g",
        "outputId": "ff6bc03a-ef63-4347-c0bf-2a0b28413389"
      },
      "outputs": [
        {
          "name": "stderr",
          "output_type": "stream",
          "text": [
            "<ipython-input-2-c5e690b44120>:11: FutureWarning: DataFrame.fillna with 'method' is deprecated and will raise in a future version. Use obj.ffill() or obj.bfill() instead.\n",
            "  data.fillna(method='ffill', inplace=True)\n"
          ]
        }
      ],
      "source": [
        "import pandas as pd\n",
        "import numpy as np\n",
        "from sklearn.preprocessing import MinMaxScaler\n",
        "from sklearn.model_selection import train_test_split\n",
        "from keras.models import Sequential\n",
        "from keras.layers import LSTM, Dense, Dropout\n",
        "\n",
        "file_path = 'Dataset.csv'\n",
        "data = pd.read_csv(file_path)\n",
        "\n",
        "data.fillna(method='ffill', inplace=True)\n",
        "\n",
        "data['Date'] = pd.to_datetime(data['Date'])\n",
        "\n",
        "data.set_index('Date', inplace=True)\n",
        "\n",
        "dataset = data['Close'].values\n",
        "dataset = dataset.reshape(-1, 1)\n",
        "\n",
        "scaler = MinMaxScaler(feature_range=(0, 1))\n",
        "scaled_data = scaler.fit_transform(dataset)\n",
        "\n",
        "sequence_length = 60\n",
        "X, y = [], []\n",
        "for i in range(sequence_length, len(scaled_data)):\n",
        "    X.append(scaled_data[i-sequence_length:i, 0])\n",
        "    y.append(scaled_data[i, 0])\n",
        "\n",
        "X, y = np.array(X), np.array(y)\n",
        "\n",
        "X = np.reshape(X, (X.shape[0], X.shape[1], 1))\n",
        "\n",
        "X_train, X_test, y_train, y_test = train_test_split(X, y, test_size=0.2, random_state=42)\n",
        "\n",
        "model = Sequential()\n",
        "model.add(LSTM(units=50, return_sequences=True, input_shape=(X_train.shape[1], 1)))\n",
        "model.add(Dropout(0.2))\n",
        "model.add(LSTM(units=50, return_sequences=False))\n",
        "model.add(Dropout(0.2))\n",
        "model.add(Dense(units=1))\n",
        "\n",
        "model.compile(optimizer='adam', loss='mean_squared_error')\n",
        "\n",
        "\n"
      ]
    },
    {
      "cell_type": "code",
      "execution_count": 3,
      "metadata": {
        "colab": {
          "base_uri": "https://localhost:8080/"
        },
        "id": "dVQgeMo9pQ5r",
        "outputId": "bc249e21-e7af-46fb-8257-5a2846cf3270"
      },
      "outputs": [
        {
          "name": "stdout",
          "output_type": "stream",
          "text": [
            "Epoch 1/20\n",
            "133/133 [==============================] - 13s 58ms/step - loss: 0.0061 - val_loss: 2.4422e-04\n",
            "Epoch 2/20\n",
            "133/133 [==============================] - 8s 62ms/step - loss: 0.0013 - val_loss: 3.1049e-04\n",
            "Epoch 3/20\n",
            "133/133 [==============================] - 8s 61ms/step - loss: 0.0011 - val_loss: 2.4494e-04\n",
            "Epoch 4/20\n",
            "133/133 [==============================] - 8s 60ms/step - loss: 0.0012 - val_loss: 2.5423e-04\n",
            "Epoch 5/20\n",
            "133/133 [==============================] - 9s 66ms/step - loss: 9.8634e-04 - val_loss: 1.7836e-04\n",
            "Epoch 6/20\n",
            "133/133 [==============================] - 7s 52ms/step - loss: 9.9070e-04 - val_loss: 2.3021e-04\n",
            "Epoch 7/20\n",
            "133/133 [==============================] - 8s 63ms/step - loss: 9.5348e-04 - val_loss: 5.9663e-04\n",
            "Epoch 8/20\n",
            "133/133 [==============================] - 7s 51ms/step - loss: 9.6890e-04 - val_loss: 1.6190e-04\n",
            "Epoch 9/20\n",
            "133/133 [==============================] - 8s 63ms/step - loss: 8.8658e-04 - val_loss: 2.3156e-04\n",
            "Epoch 10/20\n",
            "133/133 [==============================] - 7s 55ms/step - loss: 9.0193e-04 - val_loss: 1.6540e-04\n",
            "Epoch 11/20\n",
            "133/133 [==============================] - 9s 64ms/step - loss: 8.3329e-04 - val_loss: 1.9392e-04\n",
            "Epoch 12/20\n",
            "133/133 [==============================] - 8s 62ms/step - loss: 7.3716e-04 - val_loss: 1.8262e-04\n",
            "Epoch 13/20\n",
            "133/133 [==============================] - 7s 52ms/step - loss: 7.2780e-04 - val_loss: 1.8437e-04\n",
            "Epoch 14/20\n",
            "133/133 [==============================] - 8s 63ms/step - loss: 6.5323e-04 - val_loss: 1.3321e-04\n",
            "Epoch 15/20\n",
            "133/133 [==============================] - 7s 52ms/step - loss: 7.1138e-04 - val_loss: 2.5839e-04\n",
            "Epoch 16/20\n",
            "133/133 [==============================] - 8s 63ms/step - loss: 6.5211e-04 - val_loss: 1.3063e-04\n",
            "Epoch 17/20\n",
            "133/133 [==============================] - 8s 61ms/step - loss: 6.1586e-04 - val_loss: 2.3431e-04\n",
            "Epoch 18/20\n",
            "133/133 [==============================] - 7s 54ms/step - loss: 5.3881e-04 - val_loss: 2.1354e-04\n",
            "Epoch 19/20\n",
            "133/133 [==============================] - 9s 64ms/step - loss: 6.0387e-04 - val_loss: 1.2896e-04\n",
            "Epoch 20/20\n",
            "133/133 [==============================] - 7s 53ms/step - loss: 5.8757e-04 - val_loss: 1.4321e-04\n",
            "133/133 [==============================] - 2s 16ms/step - loss: 1.6898e-04\n",
            "34/34 [==============================] - 1s 16ms/step - loss: 1.4321e-04\n",
            "Train Loss: 0.0001689764321781695\n",
            "Test Loss: 0.00014320541231427342\n"
          ]
        }
      ],
      "source": [
        "model.fit(X_train, y_train, epochs=20, batch_size=32, validation_data=(X_test, y_test))\n",
        "\n",
        "train_loss = model.evaluate(X_train, y_train)\n",
        "test_loss = model.evaluate(X_test, y_test)\n",
        "print(f'Train Loss: {train_loss}')\n",
        "print(f'Test Loss: {test_loss}')"
      ]
    },
    {
      "cell_type": "code",
      "execution_count": 4,
      "metadata": {
        "colab": {
          "base_uri": "https://localhost:8080/"
        },
        "id": "sb7q_ZqOtebj",
        "outputId": "3907ca05-6e4b-4776-a813-665756412306"
      },
      "outputs": [
        {
          "name": "stderr",
          "output_type": "stream",
          "text": [
            "/usr/local/lib/python3.10/dist-packages/keras/src/engine/training.py:3103: UserWarning: You are saving your model as an HDF5 file via `model.save()`. This file format is considered legacy. We recommend using instead the native Keras format, e.g. `model.save('my_model.keras')`.\n",
            "  saving_api.save_model(\n"
          ]
        }
      ],
      "source": [
        "model.save(\"LSTM.h5\")"
      ]
    },
    {
      "cell_type": "code",
      "execution_count": 6,
      "metadata": {
        "colab": {
          "base_uri": "https://localhost:8080/"
        },
        "id": "QYcdl9rkthdQ",
        "outputId": "c8b2b8ca-b976-443a-eefd-4c5813b37cc1"
      },
      "outputs": [
        {
          "name": "stdout",
          "output_type": "stream",
          "text": [
            "133/133 [==============================] - 3s 15ms/step\n",
            "34/34 [==============================] - 1s 15ms/step\n",
            "Train MAE: 266868.3956866898\n",
            "Train MSE: 122147778263.23889\n",
            "Train RMSE: 349496.4638780182\n",
            "Train R²: -1.3934424370346674\n",
            "Test MAE: 260533.16660540173\n",
            "Test MSE: 116868348107.46812\n",
            "Test RMSE: 341860.1294498499\n",
            "Test R²: -1.3806145246691952\n"
          ]
        }
      ],
      "source": [
        "from sklearn.metrics import mean_absolute_error, mean_squared_error, r2_score\n",
        "from keras.models import load_model\n",
        "import math\n",
        "\n",
        "model_path = 'LSTM.h5'\n",
        "model = load_model(model_path)\n",
        "\n",
        "y_train_pred = model.predict(X_train)\n",
        "y_test_pred = model.predict(X_test)\n",
        "\n",
        "y_train_pred = scaler.inverse_transform(y_train_pred)\n",
        "y_test_pred = scaler.inverse_transform(y_test_pred)\n",
        "y_train = scaler.inverse_transform(y_train.reshape(-1, 1))\n",
        "y_test = scaler.inverse_transform(y_test.reshape(-1, 1))\n",
        "\n",
        "train_mae = mean_absolute_error(y_train, y_train_pred)\n",
        "train_mse = mean_squared_error(y_train, y_train_pred)\n",
        "train_rmse = math.sqrt(train_mse)\n",
        "train_r2 = r2_score(y_train, y_train_pred)\n",
        "\n",
        "test_mae = mean_absolute_error(y_test, y_test_pred)\n",
        "test_mse = mean_squared_error(y_test, y_test_pred)\n",
        "test_rmse = math.sqrt(test_mse)\n",
        "test_r2 = r2_score(y_test, y_test_pred)\n",
        "\n",
        "print(f'Train MAE: {train_mae}')\n",
        "print(f'Train MSE: {train_mse}')\n",
        "print(f'Train RMSE: {train_rmse}')\n",
        "print(f'Train R²: {train_r2}')\n",
        "\n",
        "print(f'Test MAE: {test_mae}')\n",
        "print(f'Test MSE: {test_mse}')\n",
        "print(f'Test RMSE: {test_rmse}')\n",
        "print(f'Test R²: {test_r2}')\n"
      ]
    },
    {
      "cell_type": "code",
      "execution_count": null,
      "metadata": {
        "id": "6mxXTcQMt8qi"
      },
      "outputs": [],
      "source": []
    }
  ],
  "metadata": {
    "colab": {
      "provenance": []
    },
    "kernelspec": {
      "display_name": "Python 3",
      "name": "python3"
    },
    "language_info": {
      "name": "python",
      "version": "3.10.7"
    }
  },
  "nbformat": 4,
  "nbformat_minor": 0
}
